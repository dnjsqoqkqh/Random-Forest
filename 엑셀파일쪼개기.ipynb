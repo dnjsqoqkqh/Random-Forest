{
 "cells": [
  {
   "cell_type": "code",
   "execution_count": 10,
   "metadata": {},
   "outputs": [],
   "source": [
    "import os\n",
    "nDivCnt = 100000\n",
    "\n",
    "filepath = \"C:/SR/py/project3_park/rawdata/csv/\"\n",
    "fileName = 'DAUM_CAFE_국립공원'\n",
    "fileExe = \".csv\"\n",
    "fileFolder = \"csv2/\""
   ]
  },
  {
   "cell_type": "markdown",
   "metadata": {},
   "source": [
    "### nDivent : ~개마다 쪼갤지 정하는 것 ex) nDivCnt = 20000 : 20000개마다 쪼개기"
   ]
  },
  {
   "cell_type": "code",
   "execution_count": 11,
   "metadata": {},
   "outputs": [],
   "source": [
    "dirname = filepath + fileFolder\n",
    "if not os.path.isdir(dirname):\n",
    "    os.mkdir(dirname)"
   ]
  },
  {
   "cell_type": "code",
   "execution_count": 12,
   "metadata": {},
   "outputs": [],
   "source": [
    "nLineCnt = 0\n",
    "nFileIdx = 0"
   ]
  },
  {
   "cell_type": "code",
   "execution_count": 31,
   "metadata": {},
   "outputs": [
    {
     "name": "stdout",
     "output_type": "stream",
     "text": [
      "생성 완료 C:/SR/py/project3_park/rawdata/csv/csv2/DAUM_CAFE_국립공원000002.csv\n",
      "생성 완료 C:/SR/py/project3_park/rawdata/csv/csv2/DAUM_CAFE_국립공원000003.csv\n",
      "생성 완료 C:/SR/py/project3_park/rawdata/csv/csv2/DAUM_CAFE_국립공원000004.csv\n",
      "생성 완료 C:/SR/py/project3_park/rawdata/csv/csv2/DAUM_CAFE_국립공원000005.csv\n",
      "생성 완료 C:/SR/py/project3_park/rawdata/csv/csv2/DAUM_CAFE_국립공원000006.csv\n",
      "생성 완료 C:/SR/py/project3_park/rawdata/csv/csv2/DAUM_CAFE_국립공원000007.csv\n",
      "생성 완료 C:/SR/py/project3_park/rawdata/csv/csv2/DAUM_CAFE_국립공원000008.csv\n"
     ]
    }
   ],
   "source": [
    "f = open(\"%s\" % (filepath + fileName + fileExe), 'r', encoding='utf-8-sig')\n",
    "fDivName = open (\"%s%06d%s\" % (filepath + fileName, nFileIdx, fileExe), 'w', encoding='utf-8-sig')\n",
    "while True:\n",
    "    line = f.readline()\n",
    "    if not line: break\n",
    "        \n",
    "    if nLineCnt == nDivCnt :\n",
    "        fDivName.close()\n",
    "        nFileIdx += 1\n",
    "        nLineCnt = 0\n",
    "        strPat = \"%s%06d%s\" % (filepath + fileFolder + fileName, nFileIdx, fileExe)\n",
    "        fDivName = open(strPat , 'w', encoding='utf-8-sig')\n",
    "        print(\"생성 완료 %s\" % strPat)\n",
    "    nLineCnt += 1\n",
    "    fDivName.write(line)\n",
    "    #Print(line)\n",
    "fDivName.close()\n",
    "f.close()"
   ]
  },
  {
   "cell_type": "code",
   "execution_count": null,
   "metadata": {},
   "outputs": [],
   "source": []
  }
 ],
 "metadata": {
  "kernelspec": {
   "display_name": "Python 3",
   "language": "python",
   "name": "python3"
  },
  "language_info": {
   "codemirror_mode": {
    "name": "ipython",
    "version": 3
   },
   "file_extension": ".py",
   "mimetype": "text/x-python",
   "name": "python",
   "nbconvert_exporter": "python",
   "pygments_lexer": "ipython3",
   "version": "3.7.3"
  }
 },
 "nbformat": 4,
 "nbformat_minor": 2
}
